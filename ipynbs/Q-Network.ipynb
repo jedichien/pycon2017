{
 "cells": [
  {
   "cell_type": "code",
   "execution_count": 1,
   "metadata": {
    "collapsed": false
   },
   "outputs": [],
   "source": [
    "import gym\n",
    "import numpy as np\n",
    "import pandas as pd\n",
    "import tensorflow as tf\n",
    "from time import time\n",
    "import matplotlib.pyplot as plt\n",
    "%matplotlib inline"
   ]
  },
  {
   "cell_type": "code",
   "execution_count": 2,
   "metadata": {
    "collapsed": false
   },
   "outputs": [],
   "source": [
    "class QNetwork:\n",
    "    \n",
    "    def __init__(self):\n",
    "        \n",
    "        self.gamma = 0.99\n",
    "        self.epsilon = 0.1\n",
    "        \n",
    "        self._build_net()\n",
    "\n",
    "        self.sess = tf.Session()\n",
    "        self.sess.run(tf.global_variables_initializer())\n",
    "\n",
    "    def _build_net(self):\n",
    "        \n",
    "        with tf.name_scope('inputs'):\n",
    "            self.tf_obs = tf.placeholder(tf.float32, [1, 16], name=\"observation\")\n",
    "            \n",
    "#         hidden_layer = tf.layers.dense(\n",
    "#             inputs=self.tf_obs,\n",
    "#             units=10,\n",
    "#             activation=tf.nn.tanh,\n",
    "#             kernel_initializer=tf.random_uniform_initializer(minval=0, maxval=0.01)\n",
    "#         )\n",
    "        \n",
    "#         self.Qout = tf.layers.dense(\n",
    "#             inputs=hidden_layer,\n",
    "#             units=4,\n",
    "#             activation=None,\n",
    "#             kernel_initializer=tf.random_uniform_initializer(minval=0, maxval=0.01)\n",
    "#         )\n",
    "        \n",
    "#         self.Qout = tf.layers.dense(\n",
    "#             inputs=self.tf_obs,\n",
    "#             units=4,\n",
    "#             activation=tf.nn.sigmoid,\n",
    "#             kernel_initializer=tf.random_uniform_initializer(minval=0, maxval=0.01),\n",
    "#         )\n",
    "        \n",
    "        W = tf.Variable(tf.random_uniform([16,4], minval=0, maxval=0.01))\n",
    "        self.Qout = tf.matmul(self.tf_obs, W)\n",
    "        self.predict_act = tf.argmax(self.Qout, axis=1)\n",
    "\n",
    "        with tf.name_scope('loss'):\n",
    "            self.updatedQ = tf.placeholder(shape=[1,4], dtype=tf.float32)            \n",
    "            loss = tf.reduce_sum(tf.square(self.updatedQ - self.Qout))\n",
    "          \n",
    "        with tf.name_scope('train'):\n",
    "            self.train_op = tf.train.GradientDescentOptimizer(0.1).minimize(loss)\n",
    "            \n",
    "    def one_hot(self, ix, n):\n",
    "        vec = np.zeros(n)\n",
    "        vec[ix] = 1\n",
    "        return vec.reshape(1,n)\n",
    "        \n",
    "    def choice_action(self, observation):\n",
    "        \n",
    "        obs = self.one_hot(observation, 16)\n",
    "        \n",
    "        action = self.sess.run(self.predict_act, feed_dict={self.tf_obs: obs})[0]\n",
    "        \n",
    "        if np.random.rand() < self.epsilon:\n",
    "            action = env.action_space.sample()\n",
    "        \n",
    "        return action\n",
    "       \n",
    "        \n",
    "    def _predict_qval(self, obs):\n",
    "        pred_Q = self.sess.run(self.Qout, feed_dict={self.tf_obs: obs}) # dim -> (1,4)\n",
    "        return pred_Q\n",
    "\n",
    "    def learn(self, obs, act, rs, next_obs):        \n",
    "        \n",
    "        obs = self.one_hot(obs, 16)\n",
    "        next_obs = self.one_hot(next_obs, 16)\n",
    "        \n",
    "        Q = self._predict_qval(obs)\n",
    "        nextQ = self._predict_qval(next_obs)\n",
    "        max_nextQ = np.max(nextQ)\n",
    "        \n",
    "        #update current (s,a) q_val\n",
    "        Q[0, act] = rs + (self.gamma * max_nextQ)\n",
    "        \n",
    "        self.sess.run(self.train_op, feed_dict={self.updatedQ: Q, self.tf_obs: obs})\n"
   ]
  },
  {
   "cell_type": "code",
   "execution_count": 3,
   "metadata": {
    "collapsed": false
   },
   "outputs": [
    {
     "name": "stderr",
     "output_type": "stream",
     "text": [
      "INFO:gym.envs.registration:Making new env: FrozenLake-v0\n",
      "[2017-05-01 10:57:22,826] Making new env: FrozenLake-v0\n"
     ]
    }
   ],
   "source": [
    "env = gym.make('FrozenLake-v0')"
   ]
  },
  {
   "cell_type": "code",
   "execution_count": 4,
   "metadata": {
    "collapsed": false
   },
   "outputs": [],
   "source": [
    "qnet = QNetwork()"
   ]
  },
  {
   "cell_type": "code",
   "execution_count": 5,
   "metadata": {
    "collapsed": false
   },
   "outputs": [
    {
     "name": "stdout",
     "output_type": "stream",
     "text": [
      "(' episode:', 0, ' running rewards:', 0.0, ' total steps:', 6, ' waste time:', 0.028)\n",
      "(' episode:', 50, ' running rewards:', 0.0, ' total steps:', 3, ' waste time:', 0.009)\n",
      "(' episode:', 100, ' running rewards:', 0.002, ' total steps:', 2, ' waste time:', 0.007)\n",
      "(' episode:', 150, ' running rewards:', 0.007, ' total steps:', 3, ' waste time:', 0.01)\n",
      "(' episode:', 200, ' running rewards:', 0.015, ' total steps:', 3, ' waste time:', 0.009)\n",
      "(' episode:', 250, ' running rewards:', 0.008, ' total steps:', 1, ' waste time:', 0.004)\n",
      "(' episode:', 300, ' running rewards:', 0.003, ' total steps:', 3, ' waste time:', 0.01)\n",
      "(' episode:', 350, ' running rewards:', 0.005, ' total steps:', 8, ' waste time:', 0.023)\n",
      "(' episode:', 400, ' running rewards:', 0.017, ' total steps:', 16, ' waste time:', 0.038)\n",
      "(' episode:', 450, ' running rewards:', 0.001, ' total steps:', 19, ' waste time:', 0.041)\n",
      "(' episode:', 500, ' running rewards:', 0.01, ' total steps:', 2, ' waste time:', 0.007)\n",
      "(' episode:', 550, ' running rewards:', 0.003, ' total steps:', 5, ' waste time:', 0.012)\n",
      "(' episode:', 600, ' running rewards:', 0.01, ' total steps:', 16, ' waste time:', 0.043)\n",
      "(' episode:', 650, ' running rewards:', 0.01, ' total steps:', 7, ' waste time:', 0.015)\n",
      "(' episode:', 700, ' running rewards:', 0.01, ' total steps:', 44, ' waste time:', 0.08)\n",
      "(' episode:', 750, ' running rewards:', 0.003, ' total steps:', 39, ' waste time:', 0.08)\n",
      "(' episode:', 800, ' running rewards:', 0.014, ' total steps:', 10, ' waste time:', 0.026)\n",
      "(' episode:', 850, ' running rewards:', 0.004, ' total steps:', 32, ' waste time:', 0.077)\n",
      "(' episode:', 900, ' running rewards:', 0.014, ' total steps:', 37, ' waste time:', 0.084)\n",
      "(' episode:', 950, ' running rewards:', 0.018, ' total steps:', 15, ' waste time:', 0.053)\n",
      "(' episode:', 1000, ' running rewards:', 0.013, ' total steps:', 51, ' waste time:', 0.105)\n",
      "(' episode:', 1100, ' running rewards:', 0.015, ' total steps:', 41, ' waste time:', 0.082)\n",
      "(' episode:', 1150, ' running rewards:', 0.042, ' total steps:', 5, ' waste time:', 0.012)\n",
      "(' episode:', 1200, ' running rewards:', 0.026, ' total steps:', 22, ' waste time:', 0.044)\n",
      "(' episode:', 1250, ' running rewards:', 0.012, ' total steps:', 18, ' waste time:', 0.041)\n",
      "(' episode:', 1300, ' running rewards:', 0.012, ' total steps:', 47, ' waste time:', 0.079)\n",
      "(' episode:', 1350, ' running rewards:', 0.027, ' total steps:', 32, ' waste time:', 0.071)\n",
      "(' episode:', 1400, ' running rewards:', 0.022, ' total steps:', 95, ' waste time:', 0.204)\n",
      "(' episode:', 1450, ' running rewards:', 0.007, ' total steps:', 60, ' waste time:', 0.127)\n",
      "(' episode:', 1500, ' running rewards:', 0.018, ' total steps:', 16, ' waste time:', 0.038)\n",
      "(' episode:', 1550, ' running rewards:', 0.017, ' total steps:', 26, ' waste time:', 0.057)\n",
      "(' episode:', 1600, ' running rewards:', 0.033, ' total steps:', 8, ' waste time:', 0.018)\n",
      "(' episode:', 1650, ' running rewards:', 0.019, ' total steps:', 14, ' waste time:', 0.032)\n",
      "(' episode:', 1700, ' running rewards:', 0.009, ' total steps:', 40, ' waste time:', 0.085)\n",
      "(' episode:', 1750, ' running rewards:', 0.014, ' total steps:', 15, ' waste time:', 0.033)\n",
      "(' episode:', 1800, ' running rewards:', 0.014, ' total steps:', 35, ' waste time:', 0.074)\n",
      "(' episode:', 1850, ' running rewards:', 0.023, ' total steps:', 27, ' waste time:', 0.051)\n",
      "(' episode:', 1900, ' running rewards:', 0.025, ' total steps:', 13, ' waste time:', 0.021)\n",
      "(' episode:', 1950, ' running rewards:', 0.019, ' total steps:', 34, ' waste time:', 0.06)\n"
     ]
    }
   ],
   "source": [
    "num_episodes = 2000\n",
    "max_steps = 100\n",
    "\n",
    "R_list = []\n",
    "\n",
    "for i_episode in xrange(num_episodes):\n",
    "    s = time()\n",
    "    \n",
    "    observ = env.reset()\n",
    "    \n",
    "    \n",
    "    for i_step in xrange(max_steps):\n",
    "               \n",
    "        action = qnet.choice_action(observ)\n",
    "      \n",
    "        next_observ, reward, done, info = env.step(action)\n",
    "#         if done and reward != 1:\n",
    "#             reward = -1\n",
    "        \n",
    "        if 'running_reward' not in globals():\n",
    "            running_reward = reward\n",
    "        else:\n",
    "            running_reward = 0.99*running_reward + 0.01*reward\n",
    "                                   \n",
    "        qnet.learn(observ, action, reward, next_observ)\n",
    "       \n",
    "        if done:\n",
    "            \n",
    "            if i_episode % 50 == 0:\n",
    "                print(\" episode:\", i_episode, \n",
    "                      \" running rewards:\", round(running_reward,3), \n",
    "                      \" total steps:\", i_step, \n",
    "                      \" waste time:\", round(time()-s, 3))\n",
    "            #Reduce chance of random action as we train the model.\n",
    "            qnet.epsilon = 1./((i_episode/50) + 10)\n",
    "            R_list.append(reward)\n",
    "            break\n",
    "            \n",
    "        observ = next_observ\n"
   ]
  },
  {
   "cell_type": "code",
   "execution_count": 6,
   "metadata": {
    "collapsed": false
   },
   "outputs": [
    {
     "name": "stdout",
     "output_type": "stream",
     "text": [
      "('Percent of succesful episodes: ', 0.329)\n"
     ]
    }
   ],
   "source": [
    "num_success = sum(np.array(R_list) == 1)\n",
    "print(\"Percent of succesful episodes: \", 1.0 *  num_success/num_episodes)\n"
   ]
  },
  {
   "cell_type": "code",
   "execution_count": 7,
   "metadata": {
    "collapsed": false
   },
   "outputs": [
    {
     "name": "stderr",
     "output_type": "stream",
     "text": [
      "/Users/apple/anaconda/lib/python2.7/site-packages/ipykernel/__main__.py:1: FutureWarning: pd.rolling_mean is deprecated for Series and will be removed in a future version, replace with \n",
      "\tSeries.rolling(window=500,center=False).mean()\n",
      "  if __name__ == '__main__':\n"
     ]
    },
    {
     "data": {
      "text/plain": [
       "[<matplotlib.lines.Line2D at 0x118edd3d0>]"
      ]
     },
     "execution_count": 7,
     "metadata": {},
     "output_type": "execute_result"
    },
    {
     "data": {
      "image/png": "[encoded data removed]",
      "text/plain": [
       "<matplotlib.figure.Figure at 0x118e2f6d0>"
      ]
     },
     "metadata": {},
     "output_type": "display_data"
    }
   ],
   "source": [
    "plt.plot(pd.rolling_mean(pd.Series(R_list), window=500))"
   ]
  },
  {
   "cell_type": "code",
   "execution_count": null,
   "metadata": {
    "collapsed": true
   },
   "outputs": [],
   "source": []
  },
  {
   "cell_type": "markdown",
   "metadata": {},
   "source": [
    "# Reference\n",
    "1. [Simple Reinforcement Learning with Tensorflow Part 0: Q-Learning with Tables and Neural Networks](https://medium.com/emergent-future/simple-reinforcement-learning-with-tensorflow-part-0-q-learning-with-tables-and-neural-networks-d195264329d0)\n",
    "2. [Tensorflow tutorial](https://github.com/nlintz/TensorFlow-Tutorials)"
   ]
  },
  {
   "cell_type": "code",
   "execution_count": null,
   "metadata": {
    "collapsed": true
   },
   "outputs": [],
   "source": []
  }
 ],
 "metadata": {
  "anaconda-cloud": {},
  "kernelspec": {
   "display_name": "Python [default]",
   "language": "python",
   "name": "python2"
  },
  "language_info": {
   "codemirror_mode": {
    "name": "ipython",
    "version": 2
   },
   "file_extension": ".py",
   "mimetype": "text/x-python",
   "name": "python",
   "nbconvert_exporter": "python",
   "pygments_lexer": "ipython2",
   "version": "2.7.12"
  }
 },
 "nbformat": 4,
 "nbformat_minor": 0
}
